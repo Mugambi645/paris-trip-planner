{
 "cells": [
  {
   "cell_type": "markdown",
   "id": "f28f522e-27ed-4eaa-865b-20bcbf634826",
   "metadata": {},
   "source": [
    "\n",
    "<h4>Paris Guide using openAI'S Api</h4>"
   ]
  },
  {
   "cell_type": "markdown",
   "id": "dd9a8c2a-f1ae-4dbf-b831-ee706fe87e0a",
   "metadata": {},
   "source": [
    "As a distinguished AI Developer, you've been selected by Peterman Reality Tours, an internationally acclaimed tourism company, to undertake an influential project. This project requires you to harness the potential of OpenAI's API, specifically using its state-of-the-art language model, GPT-3.5 Turbo, to create an AI-powered travel guide for the culturally rich city of Paris.\n",
    "\n",
    "Your creation will become a virtual Parisian expert, delivering valuable insights into the city's iconic landmarks and hidden treasures. The AI will respond intelligently to a set of common questions, providing a more engaging and immersive travel planning experience for the clientele of Peterman Reality Tours.\n",
    "\n",
    "The ultimate aspiration is a user-friendly, AI-driven travel guide that significantly enhances the exploration of Paris. Users will be able to pre-define their questions and receive well-informed answers from the AI, providing a seamless and intuitive travel planning process.\n",
    "\n"
   ]
  },
  {
   "cell_type": "markdown",
   "id": "5e804a8b-26a6-43ce-ac50-694a55ef4d38",
   "metadata": {},
   "source": [
    "Note: You'll have to create an openAI account, go to API's section and create your secret key and add your billing information as openAI is not free to use"
   ]
  },
  {
   "cell_type": "code",
   "execution_count": null,
   "id": "3eaf401a-0c44-4cfc-aa5b-7de3f81df8fa",
   "metadata": {},
   "outputs": [],
   "source": [
    "\n",
    "#import tools\n",
    "import os\n",
    "from openai import OpenAI"
   ]
  },
  {
   "cell_type": "code",
   "execution_count": 3,
   "id": "657bd09e-8a41-48a1-89c4-501dacc7437b",
   "metadata": {},
   "outputs": [],
   "source": [
    "# Define the model to use\n",
    "model = \"gpt-3.5-turbo\""
   ]
  },
  {
   "cell_type": "code",
   "execution_count": null,
   "id": "6b4643d6-76c6-4853-a41a-4f84fdd7f1b1",
   "metadata": {},
   "outputs": [],
   "source": [
    "\n",
    "# Define the client\n",
    "client = OpenAI(api_key=os.environ[\"OPENAI\"])"
   ]
  },
  {
   "cell_type": "code",
   "execution_count": null,
   "id": "74c1df4a-a10f-4939-8d10-7772aa37d0c9",
   "metadata": {},
   "outputs": [],
   "source": [
    "#Defining the conversation\n",
    "#role - indicates who is sending the message:\n",
    "#system - sets the behavior and context of the AI model while user represents the input.\n",
    "#content - indicates actual content\n",
    "\n",
    "conversation = [\n",
    "    {\n",
    "        \"role\": \"system\",\n",
    "        \"content\": \"You are a travel guide designed to provide information about landmarks that tourists should explore in Paris. You speak in a concise manner.\"\n",
    "    },\n",
    "    {\n",
    "        \"role\": \"user\",\n",
    "        \"content\": \"What is the most famous landmark in Paris?\"\n",
    "    },\n",
    "    {\n",
    "        \"role\": \"assistant\",\n",
    "        \"content\": \"The most famous landmark in Paris is the Eiffel Tower.\"\n",
    "    }\n",
    "]"
   ]
  },
  {
   "cell_type": "code",
   "execution_count": null,
   "id": "3b54d05d-9af5-4919-b9a2-de4f9dda7315",
   "metadata": {},
   "outputs": [],
   "source": [
    "\n",
    "# Define a list of questions\n",
    "questions = [\n",
    "    \"How far away is the Louvre from the Eiffel Tower (in driving miles)?\",\n",
    "    \"Where is the Arc de Triomphe?\",\n",
    "    \"What are the must-see artworks at the Louvre Museum?\",\n",
    "]\n"
   ]
  },
  {
   "cell_type": "code",
   "execution_count": null,
   "id": "d5aa2f47-5886-4bed-aac9-528379f5e6f6",
   "metadata": {},
   "outputs": [],
   "source": [
    "\n",
    "# Loop through each question to generate responses\n",
    "for question in questions:\n",
    "    # Format the user input into dictionary form\n",
    "    input_dict = {'role': 'user', 'content': question}\n",
    "    conversation.append(input_dict)\n",
    "    \n",
    "    # Make the next API call\n",
    "    response = client.chat.completions.create(\n",
    "        model=model,\n",
    "        messages=conversation,\n",
    "        temperature=0.0,\n",
    "        max_tokens=100\n",
    "    )\n",
    "    \n",
    "    # Print the response from the model\n",
    "    resp = response.choices[0].message.content\n",
    "    print(resp)\n",
    "\n",
    "    # Convert the response into the dictionary\n",
    "    resp_dict = {\"role\": \"assistant\", \"content\": resp}\n",
    "    \n",
    "    # Append the response to the conversation\n",
    "    conversation.append(resp_dict)"
   ]
  },
  {
   "cell_type": "code",
   "execution_count": null,
   "id": "eecc21af-4047-4d77-900f-55977bdbf4c4",
   "metadata": {},
   "outputs": [],
   "source": []
  }
 ],
 "metadata": {
  "kernelspec": {
   "display_name": "Python 3 (ipykernel)",
   "language": "python",
   "name": "python3"
  },
  "language_info": {
   "codemirror_mode": {
    "name": "ipython",
    "version": 3
   },
   "file_extension": ".py",
   "mimetype": "text/x-python",
   "name": "python",
   "nbconvert_exporter": "python",
   "pygments_lexer": "ipython3",
   "version": "3.12.2"
  }
 },
 "nbformat": 4,
 "nbformat_minor": 5
}
